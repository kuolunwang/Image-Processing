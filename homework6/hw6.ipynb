{
  "nbformat": 4,
  "nbformat_minor": 0,
  "metadata": {
    "colab": {
      "name": "hw6.ipynb",
      "provenance": [],
      "collapsed_sections": [],
      "authorship_tag": "ABX9TyOaow2lqUX87UnjBNesxAIn",
      "include_colab_link": true
    },
    "kernelspec": {
      "name": "python3",
      "display_name": "Python 3"
    }
  },
  "cells": [
    {
      "cell_type": "markdown",
      "metadata": {
        "id": "view-in-github",
        "colab_type": "text"
      },
      "source": [
        "<a href=\"https://colab.research.google.com/github/kuolunwang/Image-Processing/blob/main/hw6.ipynb\" target=\"_parent\"><img src=\"https://colab.research.google.com/assets/colab-badge.svg\" alt=\"Open In Colab\"/></a>"
      ]
    },
    {
      "cell_type": "code",
      "metadata": {
        "id": "_etuZZwbc60n"
      },
      "source": [
        "S# library\n",
        "import numpy as np\n",
        "import cv2\n",
        "from matplotlib import pyplot as plt\n",
        "import math\n",
        "from google.colab.patches import cv2_imshow\n",
        "%matplotlib inline"
      ],
      "execution_count": null,
      "outputs": []
    },
    {
      "cell_type": "code",
      "metadata": {
        "colab": {
          "base_uri": "https://localhost:8080/"
        },
        "id": "NVDYRXKKc8wp",
        "outputId": "c3382ea9-9ffe-4167-9f83-9b7986b8110d"
      },
      "source": [
        "# load picture from google drive\n",
        "from google.colab import drive\n",
        "drive.mount('/content/drive')"
      ],
      "execution_count": null,
      "outputs": [
        {
          "output_type": "stream",
          "text": [
            "Drive already mounted at /content/drive; to attempt to forcibly remount, call drive.mount(\"/content/drive\", force_remount=True).\n"
          ],
          "name": "stdout"
        }
      ]
    },
    {
      "cell_type": "code",
      "metadata": {
        "id": "dxGwvlYwc-AM"
      },
      "source": [
        "# loaded the image in grayscale\n",
        "image = cv2.imread('/content/drive/MyDrive/fruit on tree.tif')"
      ],
      "execution_count": null,
      "outputs": []
    },
    {
      "cell_type": "code",
      "metadata": {
        "id": "neR6YtYceFzN"
      },
      "source": [
        "cv2_imshow(image)"
      ],
      "execution_count": null,
      "outputs": []
    },
    {
      "cell_type": "code",
      "metadata": {
        "id": "0hbG1UnSfDy8"
      },
      "source": [
        "def otsu(image):\n",
        "  #calculate histogram\n",
        "  hist=np.zeros(256,int)\n",
        "  #image = cv2.cvtColor(image,)\n",
        "  row,col=image.shape\n",
        "  for i in range(row):\n",
        "    for j in range(col):\n",
        "      hist[image[i][j]]+=1\n",
        "  var = np.zeros(256)\n",
        "  #otsu\n",
        "  min=100000\n",
        "  for i in range(256):\n",
        "    tot1=tot2=me1=me2=va1=va2=0\n",
        "    for j in range(i+1):\n",
        "      me1+=j*hist[j]\n",
        "      tot1+=hist[j]\n",
        "    for j in range(i+1,256):\n",
        "      me2+=j*hist[j]\n",
        "      tot2+=hist[j]\n",
        "    if tot1==0 or tot2==0:\n",
        "      continue\n",
        "    else:\n",
        "      me1=me1/tot1\n",
        "      me2=me2/tot2\n",
        "    for j in range(i+1):\n",
        "     va1+=(me1-j)**2*hist[j]\n",
        "    for j in range(i+1,256):\n",
        "     va2+=(me2-j)**2*hist[j]\n",
        "    if tot1==0 or tot2==0:\n",
        "     continue\n",
        "    else:   \n",
        "     value=(va1+va2)/(tot1+tot2)\n",
        "    varbetween = (tot1/(row*col))*(tot2/(row*col))*(me1-me2)**2\n",
        "    var[i] = varbetween\n",
        "    if value<min:\n",
        "     min=value\n",
        "     th=i\n",
        "  row,col=image.shape\n",
        "  dst=np.zeros((row,col),int)\n",
        "  for i in range(row):\n",
        "   for j in range(col):\n",
        "    if image[i][j]>th:\n",
        "     dst[i][j]=255\n",
        "    else:\n",
        "     dst[i][j]=0\n",
        "\n",
        "  return dst, var"
      ],
      "execution_count": null,
      "outputs": []
    },
    {
      "cell_type": "code",
      "metadata": {
        "id": "LKjcD29uixkE"
      },
      "source": [
        "image_r = image[:, :, 2]"
      ],
      "execution_count": null,
      "outputs": []
    },
    {
      "cell_type": "code",
      "metadata": {
        "id": "dIUqSKRS7Kn8"
      },
      "source": [
        "cv2_imshow(image_r)"
      ],
      "execution_count": null,
      "outputs": []
    },
    {
      "cell_type": "code",
      "metadata": {
        "id": "E77T6T4gsk6y"
      },
      "source": [
        "mask, variances = otsu(image_r)"
      ],
      "execution_count": null,
      "outputs": []
    },
    {
      "cell_type": "code",
      "metadata": {
        "id": "b1K5NPCynanf"
      },
      "source": [
        "cv2_imshow(mask)"
      ],
      "execution_count": null,
      "outputs": []
    },
    {
      "cell_type": "code",
      "metadata": {
        "id": "hlklXWU7nx0S"
      },
      "source": [
        "plt.plot(variances)\n",
        "plt.plot(np.argmax(variances), np.max(variances),\n",
        "         marker=\"X\", label=\"maximum\")\n",
        "plt.title(\"variance between class under different threshold\")\n",
        "plt.xlabel(\"intensity\")\n",
        "plt.ylabel(\"variance\")"
      ],
      "execution_count": null,
      "outputs": []
    },
    {
      "cell_type": "code",
      "metadata": {
        "id": "sjUKxCVengNl"
      },
      "source": [
        "def filter(image, mask):\n",
        "    filtered = image.copy()\n",
        "    filtered[np.where(mask == 0)] = [50,50,50]\n",
        "    return filtered"
      ],
      "execution_count": null,
      "outputs": []
    },
    {
      "cell_type": "code",
      "metadata": {
        "id": "id6YqKL3qqyD"
      },
      "source": [
        "filtered = filter(image, mask)"
      ],
      "execution_count": null,
      "outputs": []
    },
    {
      "cell_type": "code",
      "metadata": {
        "id": "i_xL-j4GqrQZ"
      },
      "source": [
        "cv2_imshow(filtered)"
      ],
      "execution_count": null,
      "outputs": []
    },
    {
      "cell_type": "code",
      "metadata": {
        "id": "pdPdR8XS1gI7"
      },
      "source": [
        "def kmeans(img, T=1):\n",
        "    mask = None\n",
        "    iteration = 0\n",
        "    previous_centroid = None\n",
        "    row , col, d = img.shape\n",
        "    distance = np.zeros((row, col, 2))\n",
        "    rc = np.random.randint(row, size=2)\n",
        "    rr = np.random.randint(col, size=2)\n",
        "    centroid = np.zeros((k, d))\n",
        "    for i, (c, r) in enumerate(zip(rc, rr)):\n",
        "        centroid[i] = img[c, r]\n",
        "        \n",
        "    while 1:\n",
        "        for i in range(2):\n",
        "            distance[:, :, i] = np.linalg.norm(img-centroid[i], axis=2)\n",
        "        mask = np.argmin(distance, axis=2)\n",
        "\n",
        "        for i in range(2):\n",
        "            centroid[i] = np.mean(img[np.where(mask == i)], axis=0)\n",
        "\n",
        "        if previous_centroid is not None:\n",
        "            error = np.linalg.norm(previous_centroid-centroid, axis=1)\n",
        "            print(iteration, error)\n",
        "            if np.max(error) < T:\n",
        "                break\n",
        "\n",
        "        iteration += 1\n",
        "        previous_centroid = centroid.copy()\n",
        "\n",
        "    v = np.linalg.norm(centroid, axis=1)\n",
        "    if v[0] > v[1]:\n",
        "        mask = 1 - mask\n",
        "    return mask*255"
      ],
      "execution_count": null,
      "outputs": []
    },
    {
      "cell_type": "code",
      "metadata": {
        "id": "teac0eYny0_e"
      },
      "source": [
        "kmeans_mask_1 = kmeans(image, T=1)\n",
        "cv2_imshow(kmeans_mask_1)\n",
        "kmean_filter_1 = filter(image, kmeans_mask_1)\n",
        "cv2_imshow(kmean_filter_1)"
      ],
      "execution_count": null,
      "outputs": []
    },
    {
      "cell_type": "code",
      "metadata": {
        "id": "HIsnmUv-zLrE"
      },
      "source": [
        "kmeans_mask_5 = kmeans(image, T=5)\n",
        "cv2_imshow(kmeans_mask_5)\n",
        "kmean_filter_5 = filter(image, kmeans_mask_5)\n",
        "cv2_imshow(kmean_filter_5)"
      ],
      "execution_count": null,
      "outputs": []
    },
    {
      "cell_type": "code",
      "metadata": {
        "id": "b5F8NaKD4Nu9"
      },
      "source": [
        "kmeans_mask_10 = kmeans(image, T=10)\n",
        "cv2_imshow(kmeans_mask_10)\n",
        "kmean_filter_10 = filter(image, kmeans_mask_10)\n",
        "cv2_imshow(kmean_filter_10)"
      ],
      "execution_count": null,
      "outputs": []
    }
  ]
}